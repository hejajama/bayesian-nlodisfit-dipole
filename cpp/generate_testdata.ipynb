{
 "cells": [
  {
   "cell_type": "code",
   "execution_count": 51,
   "id": "ebc51dc2",
   "metadata": {},
   "outputs": [],
   "source": [
    "import numpy as np"
   ]
  },
  {
   "cell_type": "code",
   "execution_count": 52,
   "id": "13b65581",
   "metadata": {},
   "outputs": [],
   "source": [
    "def dipole(r,Y):\n",
    "    evol_lambda = 1./3.\n",
    "    qs2 = 1.0*np.exp(Y*evol_lambda)\n",
    "    \n",
    "    exponent=r**2*qs2/4 \n",
    "\n",
    "    if np.abs(exponent)<1e-10:\n",
    "        return exponent\n",
    "    else:\n",
    "        return 1. - np.exp(-exponent)"
   ]
  },
  {
   "cell_type": "code",
   "execution_count": null,
   "id": "a12829e9",
   "metadata": {},
   "outputs": [],
   "source": [
    "with open(\"../data/gbw.dat\", \"w\") as f:\n",
    "    f.write(\"# GBW model dipole for the test code\\n\")\n",
    "    f.write(\"# N(r,Y) = 1-exp(-r^2*qs^2/4) with qs^2 = (1 GeV^2)*e^{Y*1/3}\\n\")\n",
    "    f.write(\"###1.000000000000000e-06\\n\")\n",
    "    f.write(\"###1.089897374199738e+00\\n\")\n",
    "    f.write(\"###200\\n\")\n",
    "    f.write(\"###1.000000000000000e+00\\n\")\n",
    "\n",
    "    for y in np.arange(0,11,0.2):\n",
    "        f.write(f\"###{y:.6e}\\n\")\n",
    "        r0=1.000000000000e-6\n",
    "        rm=1.089897374199738\n",
    "        for i in range(200):\n",
    "            f.write(f\"{dipole(r0*rm**i,Y=y)}\\n\")\n",
    "    f.close()\n",
    "\n",
    "\n",
    "\n",
    "        \n"
   ]
  },
  {
   "cell_type": "code",
   "execution_count": 54,
   "id": "fc3a2711",
   "metadata": {},
   "outputs": [
    {
     "name": "stdout",
     "output_type": "stream",
     "text": [
      "r such that dipole(r, Y=0) = Ns: 0.9999999999989593\n",
      "r such that dipole(r, Y=2.302585092994046) = Ns: 2.154434690035217\n"
     ]
    }
   ],
   "source": [
    "from scipy.optimize import root_scalar\n",
    "\n",
    "def SaturationScale(Y):\n",
    "    def target(r):\n",
    "        return dipole(r, Y=Y) - (1-np.exp(-1/2.))\n",
    "\n",
    "    sol = root_scalar(target, bracket=[1e-6, 10], method='bisect')\n",
    "    r_solution = sol.root if sol.converged else None\n",
    "    print(f\"r such that dipole(r, Y={Y}) = Ns:\", 2/r_solution**2)\n",
    "\n",
    "SaturationScale(0)\n",
    "SaturationScale(np.log(0.01/0.001))"
   ]
  },
  {
   "cell_type": "code",
   "execution_count": null,
   "id": "bb1247df",
   "metadata": {},
   "outputs": [],
   "source": []
  },
  {
   "cell_type": "code",
   "execution_count": null,
   "id": "b48bd0bc",
   "metadata": {},
   "outputs": [],
   "source": []
  }
 ],
 "metadata": {
  "kernelspec": {
   "display_name": "Python 3",
   "language": "python",
   "name": "python3"
  },
  "language_info": {
   "codemirror_mode": {
    "name": "ipython",
    "version": 3
   },
   "file_extension": ".py",
   "mimetype": "text/x-python",
   "name": "python",
   "nbconvert_exporter": "python",
   "pygments_lexer": "ipython3",
   "version": "3.11.12"
  }
 },
 "nbformat": 4,
 "nbformat_minor": 5
}
